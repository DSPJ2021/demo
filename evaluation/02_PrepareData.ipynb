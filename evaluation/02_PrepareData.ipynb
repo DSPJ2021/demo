{
 "cells": [
  {
   "cell_type": "markdown",
   "source": [
    "# Imports"
   ],
   "metadata": {}
  },
  {
   "cell_type": "code",
   "execution_count": 1,
   "source": [
    "import pandas as pd\n",
    "import numpy as np\n",
    "import json\n",
    "import matplotlib.pyplot as plt\n",
    "import itertools\n",
    "import datetime\n",
    "# Maybe use https://gitlab.com/mike01/pypacker or https://stackoverflow.com/questions/30826123/python-scapy-vs-dpkt\n",
    "import scapy\n",
    "import pickle\n",
    "import subprocess\n",
    "from subprocess import PIPE\n",
    "from pathlib import Path\n",
    "from datetime import datetime, timedelta\n",
    "from scapy.all import *\n",
    "import networkx as nx\n",
    "import sharedVariables\n",
    "from sharedVariables import *"
   ],
   "outputs": [
    {
     "output_type": "stream",
     "name": "stderr",
     "text": [
      "WARNING: No libpcap provider available ! pcap won't be used\n"
     ]
    }
   ],
   "metadata": {}
  },
  {
   "cell_type": "code",
   "execution_count": 2,
   "source": [
    "# Variables\n",
    "directory = \"data\""
   ],
   "outputs": [],
   "metadata": {}
  },
  {
   "cell_type": "code",
   "execution_count": 10,
   "source": [
    "# Transform PCAP to CSV\n",
    "for (root, dirnames, filenames)in os.walk(directory):\n",
    "    for filename in filenames:\n",
    "        if filename.endswith(\".pcap\") and (filename + \".csv\") not in filenames:\n",
    "            pcapfile = os.path.join(Path.cwd(), directory, filename)\n",
    "            pcapcsvfile = os.path.join(Path.cwd(), directory, filename + \".csv\")\n",
    "            print(pcapfile)\n",
    "            command = f\"tshark -r {pcapfile} -T fields -Eheader=y -Eseparator=, -e frame.time_epoch -e ip.src -e ip.dst -e ip.len -e tcp.srcport -e tcp.dstport -Y \\\"(not ip.addr == 10.1.0.255) and (not tcp.srcport == 22) and (not ip.addr == 10.62.0.0/16)\\\" > {pcapcsvfile}\"\n",
    "            print(command)\n",
    "            result = subprocess.run(command, shell=True, stdout=PIPE, stderr=PIPE, universal_newlines=True)\n",
    "            print(result.returncode, result.stdout, result.stderr)"
   ],
   "outputs": [],
   "metadata": {}
  }
 ],
 "metadata": {
  "interpreter": {
   "hash": "9518128f597d7b00dc14729602cfd87fb7b2cf75925976bcb0d0e328a830a12b"
  },
  "kernelspec": {
   "name": "python3",
   "display_name": "Python 3.9.6 64-bit"
  },
  "language_info": {
   "codemirror_mode": {
    "name": "ipython",
    "version": 3
   },
   "file_extension": ".py",
   "mimetype": "text/x-python",
   "name": "python",
   "nbconvert_exporter": "python",
   "pygments_lexer": "ipython3",
   "version": "3.9.6"
  },
  "orig_nbformat": 4
 },
 "nbformat": 4,
 "nbformat_minor": 2
}