{
 "cells": [
  {
   "cell_type": "markdown",
   "metadata": {},
   "source": [
    "# Imports"
   ]
  },
  {
   "cell_type": "code",
   "execution_count": 135,
   "metadata": {},
   "outputs": [],
   "source": [
    "import pandas as pd\n",
    "import numpy as np\n",
    "import json\n",
    "import matplotlib.pyplot as plt\n",
    "import itertools\n",
    "import datetime\n"
   ]
  },
  {
   "cell_type": "markdown",
   "metadata": {},
   "source": [
    "# Data Preparation"
   ]
  },
  {
   "cell_type": "code",
   "execution_count": 136,
   "metadata": {},
   "outputs": [
    {
     "name": "stdout",
     "output_type": "stream",
     "text": [
      "<class 'pandas.core.frame.DataFrame'>\n",
      "DatetimeIndex: 101 entries, 2021-07-07 10:50:08.851796+00:00 to 2021-07-07 12:21:59.422330+00:00\n",
      "Data columns (total 21 columns):\n",
      " #   Column                            Non-Null Count  Dtype \n",
      "---  ------                            --------------  ----- \n",
      " 0   jsonPayload.connection.src_ip     101 non-null    object\n",
      " 1   jsonPayload.connection.protocol   101 non-null    int64 \n",
      " 2   jsonPayload.connection.dest_ip    101 non-null    object\n",
      " 3   jsonPayload.connection.dest_port  101 non-null    int64 \n",
      " 4   jsonPayload.connection.src_port   101 non-null    int64 \n",
      " 5   jsonPayload.dest_vpc              101 non-null    object\n",
      " 6   jsonPayload.reporter              101 non-null    object\n",
      " 7   jsonPayload.dest_instance         101 non-null    object\n",
      " 8   jsonPayload.end_time              101 non-null    object\n",
      " 9   jsonPayload.src_location          36 non-null     object\n",
      " 10  jsonPayload.packets_sent          101 non-null    object\n",
      " 11  jsonPayload.start_time            101 non-null    object\n",
      " 12  jsonPayload.bytes_sent            101 non-null    int32 \n",
      " 13  jsonPayload.src_vpc               72 non-null     object\n",
      " 14  jsonPayload.src_instance          72 non-null     object\n",
      " 15  jsonPayload.rtt_msec              101 non-null    int32 \n",
      " 16  jsonPayload.dest_location         4 non-null      object\n",
      " 17  logName                           101 non-null    object\n",
      " 18  resource                          101 non-null    object\n",
      " 19  receiveTimestamp                  101 non-null    object\n",
      " 20  insertId                          101 non-null    object\n",
      "dtypes: int32(2), int64(3), object(16)\n",
      "memory usage: 10.3+ KB\n"
     ]
    }
   ],
   "source": [
    "df = pd.read_json('export.log', lines = True)\n",
    "\n",
    "df = (pd.DataFrame(df['jsonPayload'].values.tolist())\n",
    "        .add_prefix('jsonPayload.')\n",
    "        .join(df.drop('jsonPayload', 1)))\n",
    "df = (pd.DataFrame(df['jsonPayload.connection'].values.tolist())\n",
    "        .add_prefix('jsonPayload.connection.')\n",
    "        .join(df.drop('jsonPayload.connection', 1)))\n",
    "df = df.dropna(subset=['jsonPayload.rtt_msec'])\n",
    "df = df.astype({\n",
    "    'jsonPayload.bytes_sent': 'int32',\n",
    "    'jsonPayload.rtt_msec': 'int32'\n",
    "    })\n",
    "# df = df.astype({'jsonPayload.connection.src_port': 'int32'})\n",
    "# df = df.astype({'jsonPayload.connection.dest_port': 'int32'})\n",
    "df[[\"jsonPayload.connection.src_ip\", \"jsonPayload.connection.dest_ip\", \"jsonPayload.bytes_sent\", \"jsonPayload.rtt_msec\", \"timestamp\"]].head()\n",
    "df.set_index('timestamp', inplace=True)\n",
    "df.info()"
   ]
  },
  {
   "cell_type": "code",
   "execution_count": 137,
   "metadata": {},
   "outputs": [
    {
     "data": {
      "text/html": [
       "<div>\n",
       "<style scoped>\n",
       "    .dataframe tbody tr th:only-of-type {\n",
       "        vertical-align: middle;\n",
       "    }\n",
       "\n",
       "    .dataframe tbody tr th {\n",
       "        vertical-align: top;\n",
       "    }\n",
       "\n",
       "    .dataframe thead th {\n",
       "        text-align: right;\n",
       "    }\n",
       "</style>\n",
       "<table border=\"1\" class=\"dataframe\">\n",
       "  <thead>\n",
       "    <tr style=\"text-align: right;\">\n",
       "      <th></th>\n",
       "      <th>jsonPayload.connection.src_ip</th>\n",
       "      <th>jsonPayload.connection.protocol</th>\n",
       "      <th>jsonPayload.connection.dest_ip</th>\n",
       "      <th>jsonPayload.connection.dest_port</th>\n",
       "      <th>jsonPayload.connection.src_port</th>\n",
       "      <th>jsonPayload.dest_vpc</th>\n",
       "      <th>jsonPayload.reporter</th>\n",
       "      <th>jsonPayload.dest_instance</th>\n",
       "      <th>jsonPayload.end_time</th>\n",
       "      <th>jsonPayload.src_location</th>\n",
       "      <th>...</th>\n",
       "      <th>jsonPayload.start_time</th>\n",
       "      <th>jsonPayload.bytes_sent</th>\n",
       "      <th>jsonPayload.src_vpc</th>\n",
       "      <th>jsonPayload.src_instance</th>\n",
       "      <th>jsonPayload.rtt_msec</th>\n",
       "      <th>jsonPayload.dest_location</th>\n",
       "      <th>logName</th>\n",
       "      <th>resource</th>\n",
       "      <th>receiveTimestamp</th>\n",
       "      <th>insertId</th>\n",
       "    </tr>\n",
       "    <tr>\n",
       "      <th>timestamp</th>\n",
       "      <th></th>\n",
       "      <th></th>\n",
       "      <th></th>\n",
       "      <th></th>\n",
       "      <th></th>\n",
       "      <th></th>\n",
       "      <th></th>\n",
       "      <th></th>\n",
       "      <th></th>\n",
       "      <th></th>\n",
       "      <th></th>\n",
       "      <th></th>\n",
       "      <th></th>\n",
       "      <th></th>\n",
       "      <th></th>\n",
       "      <th></th>\n",
       "      <th></th>\n",
       "      <th></th>\n",
       "      <th></th>\n",
       "      <th></th>\n",
       "      <th></th>\n",
       "    </tr>\n",
       "  </thead>\n",
       "  <tbody>\n",
       "    <tr>\n",
       "      <th>2021-07-07 10:50:14.499803+00:00</th>\n",
       "      <td>10.2.0.12</td>\n",
       "      <td>6</td>\n",
       "      <td>10.2.0.3</td>\n",
       "      <td>27017</td>\n",
       "      <td>42870</td>\n",
       "      <td>{'vpc_name': 'syncmesh-network', 'project_id':...</td>\n",
       "      <td>DEST</td>\n",
       "      <td>{'region': 'us-central1', 'project_id': 'dspj-...</td>\n",
       "      <td>2021-07-07T10:50:10.976853356Z</td>\n",
       "      <td>NaN</td>\n",
       "      <td>...</td>\n",
       "      <td>2021-07-07T10:50:10.629726017Z</td>\n",
       "      <td>1625</td>\n",
       "      <td>{'subnetwork_name': 'syncmesh-subnetwork', 'pr...</td>\n",
       "      <td>{'region': 'us-central1', 'vm_name': 'syncmesh...</td>\n",
       "      <td>0</td>\n",
       "      <td>NaN</td>\n",
       "      <td>projects/dspj-315716/logs/compute.googleapis.c...</td>\n",
       "      <td>{'type': 'gce_subnetwork', 'labels': {'subnetw...</td>\n",
       "      <td>2021-07-07 10:50:14.499803 UTC</td>\n",
       "      <td>1vzqxl2g32q7b82</td>\n",
       "    </tr>\n",
       "    <tr>\n",
       "      <th>2021-07-07 10:50:14.499803+00:00</th>\n",
       "      <td>10.2.0.12</td>\n",
       "      <td>6</td>\n",
       "      <td>10.2.0.3</td>\n",
       "      <td>27017</td>\n",
       "      <td>42874</td>\n",
       "      <td>{'vpc_name': 'syncmesh-network', 'project_id':...</td>\n",
       "      <td>DEST</td>\n",
       "      <td>{'region': 'us-central1', 'project_id': 'dspj-...</td>\n",
       "      <td>2021-07-07T10:50:10.978153534Z</td>\n",
       "      <td>NaN</td>\n",
       "      <td>...</td>\n",
       "      <td>2021-07-07T10:50:10.632257705Z</td>\n",
       "      <td>2845363</td>\n",
       "      <td>{'subnetwork_name': 'syncmesh-subnetwork', 'pr...</td>\n",
       "      <td>{'region': 'us-central1', 'vm_name': 'syncmesh...</td>\n",
       "      <td>13</td>\n",
       "      <td>NaN</td>\n",
       "      <td>projects/dspj-315716/logs/compute.googleapis.c...</td>\n",
       "      <td>{'type': 'gce_subnetwork', 'labels': {'subnetw...</td>\n",
       "      <td>2021-07-07 10:50:14.499803 UTC</td>\n",
       "      <td>1vzqxl2g32q7b7y</td>\n",
       "    </tr>\n",
       "  </tbody>\n",
       "</table>\n",
       "<p>2 rows × 21 columns</p>\n",
       "</div>"
      ],
      "text/plain": [
       "                                 jsonPayload.connection.src_ip  \\\n",
       "timestamp                                                        \n",
       "2021-07-07 10:50:14.499803+00:00                     10.2.0.12   \n",
       "2021-07-07 10:50:14.499803+00:00                     10.2.0.12   \n",
       "\n",
       "                                  jsonPayload.connection.protocol  \\\n",
       "timestamp                                                           \n",
       "2021-07-07 10:50:14.499803+00:00                                6   \n",
       "2021-07-07 10:50:14.499803+00:00                                6   \n",
       "\n",
       "                                 jsonPayload.connection.dest_ip  \\\n",
       "timestamp                                                         \n",
       "2021-07-07 10:50:14.499803+00:00                       10.2.0.3   \n",
       "2021-07-07 10:50:14.499803+00:00                       10.2.0.3   \n",
       "\n",
       "                                  jsonPayload.connection.dest_port  \\\n",
       "timestamp                                                            \n",
       "2021-07-07 10:50:14.499803+00:00                             27017   \n",
       "2021-07-07 10:50:14.499803+00:00                             27017   \n",
       "\n",
       "                                  jsonPayload.connection.src_port  \\\n",
       "timestamp                                                           \n",
       "2021-07-07 10:50:14.499803+00:00                            42870   \n",
       "2021-07-07 10:50:14.499803+00:00                            42874   \n",
       "\n",
       "                                                               jsonPayload.dest_vpc  \\\n",
       "timestamp                                                                             \n",
       "2021-07-07 10:50:14.499803+00:00  {'vpc_name': 'syncmesh-network', 'project_id':...   \n",
       "2021-07-07 10:50:14.499803+00:00  {'vpc_name': 'syncmesh-network', 'project_id':...   \n",
       "\n",
       "                                 jsonPayload.reporter  \\\n",
       "timestamp                                               \n",
       "2021-07-07 10:50:14.499803+00:00                 DEST   \n",
       "2021-07-07 10:50:14.499803+00:00                 DEST   \n",
       "\n",
       "                                                          jsonPayload.dest_instance  \\\n",
       "timestamp                                                                             \n",
       "2021-07-07 10:50:14.499803+00:00  {'region': 'us-central1', 'project_id': 'dspj-...   \n",
       "2021-07-07 10:50:14.499803+00:00  {'region': 'us-central1', 'project_id': 'dspj-...   \n",
       "\n",
       "                                            jsonPayload.end_time  \\\n",
       "timestamp                                                          \n",
       "2021-07-07 10:50:14.499803+00:00  2021-07-07T10:50:10.976853356Z   \n",
       "2021-07-07 10:50:14.499803+00:00  2021-07-07T10:50:10.978153534Z   \n",
       "\n",
       "                                 jsonPayload.src_location  ...  \\\n",
       "timestamp                                                  ...   \n",
       "2021-07-07 10:50:14.499803+00:00                      NaN  ...   \n",
       "2021-07-07 10:50:14.499803+00:00                      NaN  ...   \n",
       "\n",
       "                                          jsonPayload.start_time  \\\n",
       "timestamp                                                          \n",
       "2021-07-07 10:50:14.499803+00:00  2021-07-07T10:50:10.629726017Z   \n",
       "2021-07-07 10:50:14.499803+00:00  2021-07-07T10:50:10.632257705Z   \n",
       "\n",
       "                                 jsonPayload.bytes_sent  \\\n",
       "timestamp                                                 \n",
       "2021-07-07 10:50:14.499803+00:00                   1625   \n",
       "2021-07-07 10:50:14.499803+00:00                2845363   \n",
       "\n",
       "                                                                jsonPayload.src_vpc  \\\n",
       "timestamp                                                                             \n",
       "2021-07-07 10:50:14.499803+00:00  {'subnetwork_name': 'syncmesh-subnetwork', 'pr...   \n",
       "2021-07-07 10:50:14.499803+00:00  {'subnetwork_name': 'syncmesh-subnetwork', 'pr...   \n",
       "\n",
       "                                                           jsonPayload.src_instance  \\\n",
       "timestamp                                                                             \n",
       "2021-07-07 10:50:14.499803+00:00  {'region': 'us-central1', 'vm_name': 'syncmesh...   \n",
       "2021-07-07 10:50:14.499803+00:00  {'region': 'us-central1', 'vm_name': 'syncmesh...   \n",
       "\n",
       "                                 jsonPayload.rtt_msec  \\\n",
       "timestamp                                               \n",
       "2021-07-07 10:50:14.499803+00:00                    0   \n",
       "2021-07-07 10:50:14.499803+00:00                   13   \n",
       "\n",
       "                                  jsonPayload.dest_location  \\\n",
       "timestamp                                                     \n",
       "2021-07-07 10:50:14.499803+00:00                        NaN   \n",
       "2021-07-07 10:50:14.499803+00:00                        NaN   \n",
       "\n",
       "                                                                            logName  \\\n",
       "timestamp                                                                             \n",
       "2021-07-07 10:50:14.499803+00:00  projects/dspj-315716/logs/compute.googleapis.c...   \n",
       "2021-07-07 10:50:14.499803+00:00  projects/dspj-315716/logs/compute.googleapis.c...   \n",
       "\n",
       "                                                                           resource  \\\n",
       "timestamp                                                                             \n",
       "2021-07-07 10:50:14.499803+00:00  {'type': 'gce_subnetwork', 'labels': {'subnetw...   \n",
       "2021-07-07 10:50:14.499803+00:00  {'type': 'gce_subnetwork', 'labels': {'subnetw...   \n",
       "\n",
       "                                                receiveTimestamp  \\\n",
       "timestamp                                                          \n",
       "2021-07-07 10:50:14.499803+00:00  2021-07-07 10:50:14.499803 UTC   \n",
       "2021-07-07 10:50:14.499803+00:00  2021-07-07 10:50:14.499803 UTC   \n",
       "\n",
       "                                         insertId  \n",
       "timestamp                                          \n",
       "2021-07-07 10:50:14.499803+00:00  1vzqxl2g32q7b82  \n",
       "2021-07-07 10:50:14.499803+00:00  1vzqxl2g32q7b7y  \n",
       "\n",
       "[2 rows x 21 columns]"
      ]
     },
     "execution_count": 137,
     "metadata": {},
     "output_type": "execute_result"
    }
   ],
   "source": [
    "fromClient = df[df['jsonPayload.connection.src_ip']=='10.2.0.2']\n",
    "toServer = df[df['jsonPayload.connection.dest_ip']=='10.2.0.3']\n",
    "\n",
    "nodes = [\"10.2.0.10\", \"10.2.0.11\", \"10.2.0.12\"]\n",
    "fromClientDataset = {}\n",
    "toServerDataset = {}\n",
    "betweenNodesDataset = {}\n",
    "for node in nodes: \n",
    "    fromClientDataset[node] = fromClient[fromClient['jsonPayload.connection.dest_ip']==node]\n",
    "\n",
    "nodeCombinations = list(itertools.product(*[nodes,nodes]))\n",
    "for combination in nodeCombinations: \n",
    "    fromNode = df[df['jsonPayload.connection.src_ip']==combination[0]]\n",
    "    # fromAnyNode = df[df[\"jsonPayload.connection.src_ip\"].isin(nodes)]\n",
    "    betweenNodesDataset[\"between \" + combination[0] + \" and \" + combination[1]] = fromNode[fromNode['jsonPayload.connection.dest_ip']==combination[1]]\n",
    "\n",
    "for node in nodes: \n",
    "    toServerDataset[node] = toServer[toServer['jsonPayload.connection.src_ip']==node]\n",
    "\n",
    "\n",
    "\n",
    "# nodeCombinations\n",
    "# fromClientTo4 = fromClientTo4[fromClientTo4['jsonPayload.connection.dest_port']==8080]\n",
    "# fromClientTo4 = fromClientTo4[fromClientTo4['jsonPayload.bytes_sent']!=0]\n",
    "# toServer.head()\n",
    "toServerDataset[\"10.2.0.12\"].head()\n",
    "# betweenNodesDataset['to' + nodes[0]].info()\n",
    "# fromClientTo4['jsonPayload.connection.protocol'].value_counts()\n",
    "# fromClientTo4['jsonPayload.bytes_sent'].value_counts()\n",
    "# fromClientTo4.info()"
   ]
  },
  {
   "cell_type": "markdown",
   "metadata": {},
   "source": [
    "# Results"
   ]
  },
  {
   "cell_type": "markdown",
   "metadata": {},
   "source": [
    "## General"
   ]
  },
  {
   "cell_type": "code",
   "execution_count": 138,
   "metadata": {},
   "outputs": [
    {
     "data": {
      "text/plain": [
       "Text(0.5, 1.0, 'Round Trip Time Histogram')"
      ]
     },
     "execution_count": 138,
     "metadata": {},
     "output_type": "execute_result"
    },
    {
     "data": {
      "image/png": "[encoded data removed]",
      "text/plain": [
       "<Figure size 432x288 with 1 Axes>"
      ]
     },
     "metadata": {
      "needs_background": "light"
     },
     "output_type": "display_data"
    }
   ],
   "source": [
    "fig, ax = plt.subplots()\n",
    "ax.hist(df['jsonPayload.rtt_msec'])\n",
    "ax.set_title(\"Round Trip Time Histogram\")"
   ]
  },
  {
   "cell_type": "markdown",
   "metadata": {},
   "source": [
    "## Case: Baseline (Central Mongo)"
   ]
  },
  {
   "cell_type": "code",
   "execution_count": 139,
   "metadata": {},
   "outputs": [
    {
     "data": {
      "image/png": "[encoded data removed]",
      "text/plain": [
       "<Figure size 432x288 with 1 Axes>"
      ]
     },
     "metadata": {
      "needs_background": "light"
     },
     "output_type": "display_data"
    }
   ],
   "source": [
    "fig, ax = plt.subplots()\n",
    "# ax.set_ylim(0,500)\n",
    "for key in toServerDataset: \n",
    "    ax.plot(toServerDataset[key].index, toServerDataset[key][\"jsonPayload.bytes_sent\"], label=\"from \" + key, marker='o', linestyle='None')\n",
    "# set title and legend\n",
    "ax.set_title('Scenario: Baseline\\nBandwidth to Server')\n",
    "ax.set_ylabel(\"Bytes\")\n",
    "ax.set_xlabel(\"Time\")\n",
    "ax.legend()\n",
    "fig.savefig(\"out/bandwidth_to_server.png\")"
   ]
  },
  {
   "cell_type": "code",
   "execution_count": 140,
   "metadata": {},
   "outputs": [
    {
     "data": {
      "text/plain": [
       "<matplotlib.legend.Legend at 0x1596f8f8>"
      ]
     },
     "execution_count": 140,
     "metadata": {},
     "output_type": "execute_result"
    },
    {
     "data": {
      "image/png": "[encoded data removed]",
      "text/plain": [
       "<Figure size 432x288 with 1 Axes>"
      ]
     },
     "metadata": {
      "needs_background": "light"
     },
     "output_type": "display_data"
    }
   ],
   "source": [
    "fig, ax = plt.subplots()\n",
    "# ax.set_ylim(0,500)\n",
    "for key in toServerDataset: \n",
    "    ax.plot(toServerDataset[key].index, toServerDataset[key][\"jsonPayload.bytes_sent\"], label=key, marker='o', linestyle='None')\n",
    "# set title and legend\n",
    "ax.set_title('Bandwidth Accumulated')\n",
    "ax.legend()"
   ]
  },
  {
   "cell_type": "markdown",
   "metadata": {},
   "source": [
    "## Case: Syncmesh"
   ]
  },
  {
   "cell_type": "code",
   "execution_count": 142,
   "metadata": {},
   "outputs": [
    {
     "data": {
      "image/png": "[encoded data removed]",
      "text/plain": [
       "<Figure size 432x288 with 1 Axes>"
      ]
     },
     "metadata": {
      "needs_background": "light"
     },
     "output_type": "display_data"
    }
   ],
   "source": [
    "fig, ax = plt.subplots()\n",
    "# plot histogram\n",
    "binwidth = 10\n",
    "\n",
    "# ax.hist(fromClientTo4['jsonPayload.bytes_sent'], bins=range(min(fromClientTo4['jsonPayload.bytes_sent']), max(fromClientTo4['jsonPayload.bytes_sent']) + binwidth, binwidth))\n",
    "# ax.set_title(\"Package Size Histogram for Client to 4\")"
   ]
  },
  {
   "cell_type": "code",
   "execution_count": 145,
   "metadata": {},
   "outputs": [
    {
     "data": {
      "image/png": "[encoded data removed]",
      "text/plain": [
       "<Figure size 432x288 with 1 Axes>"
      ]
     },
     "metadata": {
      "needs_background": "light"
     },
     "output_type": "display_data"
    }
   ],
   "source": [
    "fig, ax = plt.subplots()\n",
    "# ax.set_ylim(0,500)\n",
    "for key in fromClientDataset: \n",
    "    ax.plot(fromClientDataset[key].index, fromClientDataset[key][\"jsonPayload.bytes_sent\"], label=\"to \" + key, marker='o', linestyle='None')\n",
    "# set title and legend\n",
    "ax.set_title('Scenario: Syncmesh\\nBandwidth to Client')\n",
    "ax.set_ylabel(\"Bytes\")\n",
    "ax.set_xlabel(\"Time\")\n",
    "ax.legend()\n",
    "fig.savefig(\"out/bandwidth_from_client.png\")"
   ]
  },
  {
   "cell_type": "code",
   "execution_count": 150,
   "metadata": {},
   "outputs": [
    {
     "data": {
      "image/png": "[encoded data removed]",
      "text/plain": [
       "<Figure size 432x288 with 1 Axes>"
      ]
     },
     "metadata": {
      "needs_background": "light"
     },
     "output_type": "display_data"
    }
   ],
   "source": [
    "fig, ax = plt.subplots()\n",
    "# ax.set_ylim(0,500)\n",
    "for key in betweenNodesDataset: \n",
    "    ax.plot(betweenNodesDataset[key].index, betweenNodesDataset[key][\"jsonPayload.bytes_sent\"], label=key, marker='o', linestyle='None')\n",
    "# set title and legend\n",
    "ax.set_title('Scenario: Syncmesh\\nBandwidth between Nodes')\n",
    "ax.set_ylabel(\"Bytes\")\n",
    "ax.set_xlabel(\"Time\")\n",
    "box = ax.get_position()\n",
    "ax.set_position([box.x0, box.y0, box.width * 0.4, box.height])\n",
    "ax.legend(loc='upper left', bbox_to_anchor=(1.05, 1))\n",
    "fig.savefig(\"out/bandwidth_between_nodes.png\")"
   ]
  },
  {
   "cell_type": "markdown",
   "metadata": {},
   "source": [
    "# Comparison"
   ]
  },
  {
   "cell_type": "code",
   "execution_count": 151,
   "metadata": {},
   "outputs": [
    {
     "data": {
      "image/png": "[encoded data removed]",
      "text/plain": [
       "<Figure size 432x288 with 1 Axes>"
      ]
     },
     "metadata": {
      "needs_background": "light"
     },
     "output_type": "display_data"
    }
   ],
   "source": [
    "timedfbaseline = df.loc['2021-7-7 10:30':'2021-7-7 10:50']\n",
    "\n",
    "baselineAggregateBytes = timedfbaseline[\"jsonPayload.bytes_sent\"].sum()\n",
    "baselineAggregateRTT = timedfbaseline[\"jsonPayload.rtt_msec\"].sum()\n",
    "\n",
    "timedfaggregate = df.loc['2021-7-7 12:29':'2021-7-7 12:31']\n",
    "\n",
    "syncmeshAggregateBytes = timedfaggregate[\"jsonPayload.bytes_sent\"].sum()\n",
    "syncmeshAggregateRTT = timedfaggregate[\"jsonPayload.rtt_msec\"].sum()\n",
    "\n",
    "timedfcollect = df.loc['2021-7-7 12:26':'2021-7-7 12:28']\n",
    "\n",
    "syncmeshCollectBytes = timedfcollect[\"jsonPayload.bytes_sent\"].sum()\n",
    "syncmeshCollectRTT = timedfcollect[\"jsonPayload.rtt_msec\"].sum()\n",
    "\n",
    "# timedfbaseline.info()\n",
    "\n",
    "fig, ax = plt.subplots()\n",
    "cases = ['Baseline', 'Syncmesh\\nAggregate', 'Syncmesh\\nCollect']\n",
    "values = [baselineAggregateBytes, syncmeshAggregateBytes, syncmeshCollectBytes]\n",
    "ax.bar(cases,values)\n",
    "ax.set_title('Comparison: Bytes')\n",
    "# ax.set_ylabel(\"Bytes\")\n",
    "# ax.set_xlabel(\"Time\")\n",
    "fig.savefig(\"out/comparison.png\")\n",
    "plt.show()"
   ]
  },
  {
   "cell_type": "code",
   "execution_count": 152,
   "metadata": {},
   "outputs": [
    {
     "data": {
      "image/png": "[encoded data removed]",
      "text/plain": [
       "<Figure size 432x288 with 1 Axes>"
      ]
     },
     "metadata": {
      "needs_background": "light"
     },
     "output_type": "display_data"
    }
   ],
   "source": [
    "fig, ax = plt.subplots()\n",
    "cases = ['Baseline', 'Syncmesh\\nAggregate', 'Syncmesh\\nCollect']\n",
    "values = [baselineAggregateRTT, syncmeshAggregateRTT, syncmeshCollectRTT]\n",
    "ax.bar(cases,values)\n",
    "ax.set_title('Comparison: RTT')\n",
    "# ax.set_ylabel(\"Bytes\")\n",
    "# ax.set_xlabel(\"Time\")\n",
    "fig.savefig(\"out/comparison_rtt.png\")\n",
    "plt.show()"
   ]
  }
 ],
 "metadata": {
  "interpreter": {
   "hash": "3352614b04f6a771ec3a392566a3763a34cdc96a177f762027aa589f02ec5f67"
  },
  "kernelspec": {
   "display_name": "Python 3.8.3 32-bit",
   "name": "python3"
  },
  "language_info": {
   "codemirror_mode": {
    "name": "ipython",
    "version": 3
   },
   "file_extension": ".py",
   "mimetype": "text/x-python",
   "name": "python",
   "nbconvert_exporter": "python",
   "pygments_lexer": "ipython3",
   "version": "3.8.3"
  },
  "orig_nbformat": 4
 },
 "nbformat": 4,
 "nbformat_minor": 2
}