{
 "cells": [
  {
   "cell_type": "markdown",
   "metadata": {},
   "source": [
    "# Imports"
   ]
  },
  {
   "cell_type": "code",
   "execution_count": 201,
   "metadata": {},
   "outputs": [],
   "source": [
    "import pandas as pd\n",
    "import numpy as np\n",
    "import json\n",
    "import matplotlib.pyplot as plt\n",
    "import itertools\n",
    "import datetime\n"
   ]
  },
  {
   "cell_type": "markdown",
   "metadata": {},
   "source": [
    "# Variables and Utils"
   ]
  },
  {
   "cell_type": "code",
   "execution_count": 232,
   "metadata": {},
   "outputs": [
    {
     "name": "stdout",
     "output_type": "stream",
     "text": [
      "['10.2.0.10', '10.2.0.11', '10.2.0.12', '10.2.0.2', '10.2.0.3']\n"
     ]
    }
   ],
   "source": [
    "nodes = [\"10.2.0.10\", \"10.2.0.11\", \"10.2.0.12\"]\n",
    "client = \"10.2.0.2\"\n",
    "server = \"10.2.0.3\"\n",
    "\n",
    "allServers = nodes + [client, server]\n",
    "print(allServers)\n",
    "\n",
    "def to_human_readable(size):\n",
    "    power = 1000\n",
    "    n = 0\n",
    "    mem = {0 : 'B', 1: 'KB', 2: 'MB', 3: 'GB', 4: 'TB'}\n",
    "    while size > power:\n",
    "        size /=  power\n",
    "        n += 1\n",
    "    return \"{0} {1}\".format(size, mem[n])"
   ]
  },
  {
   "cell_type": "markdown",
   "metadata": {},
   "source": [
    "# Data Preparation"
   ]
  },
  {
   "cell_type": "code",
   "execution_count": 203,
   "metadata": {},
   "outputs": [
    {
     "data": {
      "text/html": [
       "<div>\n",
       "<style scoped>\n",
       "    .dataframe tbody tr th:only-of-type {\n",
       "        vertical-align: middle;\n",
       "    }\n",
       "\n",
       "    .dataframe tbody tr th {\n",
       "        vertical-align: top;\n",
       "    }\n",
       "\n",
       "    .dataframe thead th {\n",
       "        text-align: right;\n",
       "    }\n",
       "</style>\n",
       "<table border=\"1\" class=\"dataframe\">\n",
       "  <thead>\n",
       "    <tr style=\"text-align: right;\">\n",
       "      <th></th>\n",
       "      <th>jsonPayload.connection.src_ip</th>\n",
       "      <th>jsonPayload.connection.dest_ip</th>\n",
       "      <th>jsonPayload.bytes_sent</th>\n",
       "      <th>jsonPayload.rtt_msec</th>\n",
       "    </tr>\n",
       "    <tr>\n",
       "      <th>timestamp</th>\n",
       "      <th></th>\n",
       "      <th></th>\n",
       "      <th></th>\n",
       "      <th></th>\n",
       "    </tr>\n",
       "  </thead>\n",
       "  <tbody>\n",
       "    <tr>\n",
       "      <th>2021-07-07 12:21:58.964009+00:00</th>\n",
       "      <td>10.2.0.2</td>\n",
       "      <td>10.2.0.10</td>\n",
       "      <td>569</td>\n",
       "      <td>0</td>\n",
       "    </tr>\n",
       "    <tr>\n",
       "      <th>2021-07-07 12:23:02.889347+00:00</th>\n",
       "      <td>10.2.0.2</td>\n",
       "      <td>10.2.0.10</td>\n",
       "      <td>508</td>\n",
       "      <td>1</td>\n",
       "    </tr>\n",
       "    <tr>\n",
       "      <th>2021-07-07 12:23:04.460703+00:00</th>\n",
       "      <td>10.2.0.2</td>\n",
       "      <td>10.2.0.10</td>\n",
       "      <td>508</td>\n",
       "      <td>0</td>\n",
       "    </tr>\n",
       "    <tr>\n",
       "      <th>2021-07-07 12:27:38.499437+00:00</th>\n",
       "      <td>10.2.0.2</td>\n",
       "      <td>10.2.0.10</td>\n",
       "      <td>374</td>\n",
       "      <td>0</td>\n",
       "    </tr>\n",
       "    <tr>\n",
       "      <th>2021-07-07 12:27:39.960981+00:00</th>\n",
       "      <td>10.2.0.2</td>\n",
       "      <td>10.2.0.10</td>\n",
       "      <td>508</td>\n",
       "      <td>0</td>\n",
       "    </tr>\n",
       "  </tbody>\n",
       "</table>\n",
       "</div>"
      ],
      "text/plain": [
       "                                 jsonPayload.connection.src_ip  \\\n",
       "timestamp                                                        \n",
       "2021-07-07 12:21:58.964009+00:00                      10.2.0.2   \n",
       "2021-07-07 12:23:02.889347+00:00                      10.2.0.2   \n",
       "2021-07-07 12:23:04.460703+00:00                      10.2.0.2   \n",
       "2021-07-07 12:27:38.499437+00:00                      10.2.0.2   \n",
       "2021-07-07 12:27:39.960981+00:00                      10.2.0.2   \n",
       "\n",
       "                                 jsonPayload.connection.dest_ip  \\\n",
       "timestamp                                                         \n",
       "2021-07-07 12:21:58.964009+00:00                      10.2.0.10   \n",
       "2021-07-07 12:23:02.889347+00:00                      10.2.0.10   \n",
       "2021-07-07 12:23:04.460703+00:00                      10.2.0.10   \n",
       "2021-07-07 12:27:38.499437+00:00                      10.2.0.10   \n",
       "2021-07-07 12:27:39.960981+00:00                      10.2.0.10   \n",
       "\n",
       "                                  jsonPayload.bytes_sent  jsonPayload.rtt_msec  \n",
       "timestamp                                                                       \n",
       "2021-07-07 12:21:58.964009+00:00                     569                     0  \n",
       "2021-07-07 12:23:02.889347+00:00                     508                     1  \n",
       "2021-07-07 12:23:04.460703+00:00                     508                     0  \n",
       "2021-07-07 12:27:38.499437+00:00                     374                     0  \n",
       "2021-07-07 12:27:39.960981+00:00                     508                     0  "
      ]
     },
     "execution_count": 203,
     "metadata": {},
     "output_type": "execute_result"
    }
   ],
   "source": [
    "df = pd.read_json('export.log', lines = True)\n",
    "\n",
    "df = (pd.DataFrame(df['jsonPayload'].values.tolist())\n",
    "        .add_prefix('jsonPayload.')\n",
    "        .join(df.drop('jsonPayload', 1)))\n",
    "df = (pd.DataFrame(df['jsonPayload.connection'].values.tolist())\n",
    "        .add_prefix('jsonPayload.connection.')\n",
    "        .join(df.drop('jsonPayload.connection', 1)))\n",
    "df = df.dropna(subset=['jsonPayload.rtt_msec'])\n",
    "df = df.astype({\n",
    "    'jsonPayload.bytes_sent': 'int32',\n",
    "    'jsonPayload.rtt_msec': 'int32'\n",
    "    })\n",
    "df = df.astype({'jsonPayload.connection.src_port': 'int32'})\n",
    "df = df.astype({'jsonPayload.connection.dest_port': 'int32'})\n",
    "df.set_index('timestamp', inplace=True)\n",
    "# Filter Entries for internal Traffic which is where the Benchmark Traffic is\n",
    "df = df[df[\"jsonPayload.connection.src_ip\"].isin(allServers)]\n",
    "df = df[df[\"jsonPayload.connection.dest_ip\"].isin(allServers)]\n",
    "\n",
    "# Print Table\n",
    "df[[\"jsonPayload.connection.src_ip\", \"jsonPayload.connection.dest_ip\", \"jsonPayload.bytes_sent\", \"jsonPayload.rtt_msec\"]].head()\n",
    "# df.info()"
   ]
  },
  {
   "cell_type": "code",
   "execution_count": 204,
   "metadata": {},
   "outputs": [],
   "source": [
    "fromClient = df[df['jsonPayload.connection.src_ip']=='10.2.0.2']\n",
    "toServer = df[df['jsonPayload.connection.dest_ip']=='10.2.0.3']\n",
    "\n",
    "\n",
    "fromClientDataset = {}\n",
    "toServerDataset = {}\n",
    "betweenNodesDataset = {}\n",
    "for node in nodes: \n",
    "    fromClientDataset[node] = fromClient[fromClient['jsonPayload.connection.dest_ip']==node]\n",
    "\n",
    "nodeCombinations = list(itertools.combinations(nodes, r=2))\n",
    "for combination in nodeCombinations: \n",
    "    # Use both src_ip and dest_ip as they are not request related\n",
    "    fromNode = df[df['jsonPayload.connection.src_ip'].isin(combination)]\n",
    "    # fromAnyNode = df[df[\"jsonPayload.connection.src_ip\"].isin(nodes)]\n",
    "    betweenNodesDataset[\"between \" + combination[0] + \" and \" + combination[1]] = fromNode[fromNode['jsonPayload.connection.dest_ip'].isin(combination)]\n",
    "\n",
    "for node in nodes: \n",
    "    toServerDataset[node] = toServer[toServer['jsonPayload.connection.src_ip']==node]\n",
    "\n",
    "\n",
    "\n",
    "# print(nodeCombinations)\n",
    "# fromClientTo4 = fromClientTo4[fromClientTo4['jsonPayload.connection.dest_port']==8080]\n",
    "# fromClientTo4 = fromClientTo4[fromClientTo4['jsonPayload.bytes_sent']!=0]\n",
    "# toServer.head()\n",
    "# toServerDataset[\"10.2.0.12\"].head()\n",
    "# betweenNodesDataset['to' + nodes[0]].info()\n",
    "# fromClientTo4['jsonPayload.connection.protocol'].value_counts()\n",
    "# fromClientTo4['jsonPayload.bytes_sent'].value_counts()\n",
    "# fromClientTo4.info()"
   ]
  },
  {
   "cell_type": "markdown",
   "metadata": {},
   "source": [
    "# Results"
   ]
  },
  {
   "cell_type": "markdown",
   "metadata": {},
   "source": [
    "## General"
   ]
  },
  {
   "cell_type": "code",
   "execution_count": 205,
   "metadata": {},
   "outputs": [
    {
     "data": {
      "text/plain": [
       "Text(0.5, 1.0, 'Round Trip Time Histogram')"
      ]
     },
     "execution_count": 205,
     "metadata": {},
     "output_type": "execute_result"
    },
    {
     "data": {
      "image/png": "[encoded data removed]",
      "text/plain": [
       "<Figure size 432x288 with 1 Axes>"
      ]
     },
     "metadata": {
      "needs_background": "light"
     },
     "output_type": "display_data"
    }
   ],
   "source": [
    "fig, ax = plt.subplots()\n",
    "remove0 = df[df['jsonPayload.bytes_sent']!=0]\n",
    "ax.hist(remove0['jsonPayload.rtt_msec'])\n",
    "ax.set_title(\"Round Trip Time Histogram\")"
   ]
  },
  {
   "cell_type": "markdown",
   "metadata": {},
   "source": [
    "## Case: Baseline (Central Mongo)"
   ]
  },
  {
   "cell_type": "code",
   "execution_count": 206,
   "metadata": {},
   "outputs": [
    {
     "data": {
      "image/png": "[encoded data removed]",
      "text/plain": [
       "<Figure size 432x288 with 1 Axes>"
      ]
     },
     "metadata": {
      "needs_background": "light"
     },
     "output_type": "display_data"
    }
   ],
   "source": [
    "fig, ax = plt.subplots()\n",
    "# ax.set_ylim(0,500)\n",
    "for key in toServerDataset: \n",
    "    ax.plot(toServerDataset[key].index, toServerDataset[key][\"jsonPayload.bytes_sent\"], label=\"from \" + key, marker='o', linestyle='None')\n",
    "# set title and legend\n",
    "ax.set_title('Scenario: Baseline\\nBandwidth to Server')\n",
    "ax.set_ylabel(\"Bytes\")\n",
    "ax.set_xlabel(\"Time\")\n",
    "ax.legend()\n",
    "fig.savefig(\"out/bandwidth_to_server.png\")"
   ]
  },
  {
   "cell_type": "code",
   "execution_count": 207,
   "metadata": {},
   "outputs": [
    {
     "data": {
      "text/plain": [
       "<matplotlib.legend.Legend at 0x1595b430>"
      ]
     },
     "execution_count": 207,
     "metadata": {},
     "output_type": "execute_result"
    },
    {
     "data": {
      "image/png": "[encoded data removed]",
      "text/plain": [
       "<Figure size 432x288 with 1 Axes>"
      ]
     },
     "metadata": {
      "needs_background": "light"
     },
     "output_type": "display_data"
    }
   ],
   "source": [
    "fig, ax = plt.subplots()\n",
    "# ax.set_ylim(0,500)\n",
    "for key in toServerDataset: \n",
    "    ax.plot(toServerDataset[key].index, toServerDataset[key][\"jsonPayload.bytes_sent\"], label=key, marker='o', linestyle='None')\n",
    "# set title and legend\n",
    "ax.set_title('Bandwidth Accumulated')\n",
    "ax.legend()"
   ]
  },
  {
   "cell_type": "markdown",
   "metadata": {},
   "source": [
    "## Case: Syncmesh"
   ]
  },
  {
   "cell_type": "code",
   "execution_count": 208,
   "metadata": {},
   "outputs": [
    {
     "data": {
      "image/png": "[encoded data removed]",
      "text/plain": [
       "<Figure size 432x288 with 1 Axes>"
      ]
     },
     "metadata": {
      "needs_background": "light"
     },
     "output_type": "display_data"
    }
   ],
   "source": [
    "fig, ax = plt.subplots()\n",
    "# plot histogram\n",
    "binwidth = 10\n",
    "\n",
    "# ax.hist(fromClientTo4['jsonPayload.bytes_sent'], bins=range(min(fromClientTo4['jsonPayload.bytes_sent']), max(fromClientTo4['jsonPayload.bytes_sent']) + binwidth, binwidth))\n",
    "# ax.set_title(\"Package Size Histogram for Client to 4\")"
   ]
  },
  {
   "cell_type": "code",
   "execution_count": 233,
   "metadata": {},
   "outputs": [
    {
     "data": {
      "image/png": "[encoded data removed]",
      "text/plain": [
       "<Figure size 432x288 with 1 Axes>"
      ]
     },
     "metadata": {
      "needs_background": "light"
     },
     "output_type": "display_data"
    }
   ],
   "source": [
    "fig, ax = plt.subplots()\n",
    "# ax.set_ylim(0,500)\n",
    "for key in fromClientDataset: \n",
    "    ax.plot(fromClientDataset[key].index, fromClientDataset[key][\"jsonPayload.bytes_sent\"], label=\"to \" + key, marker='o', linestyle='None')\n",
    "# set title and legend\n",
    "ax.set_title('Scenario: Syncmesh\\nBandwidth to Client')\n",
    "ax.set_ylabel(\"Bytes\")\n",
    "ax.set_xlabel(\"Time\")\n",
    "ax.set_yticklabels([to_human_readable(v) if v >= 0 else ' ' for v in  \n",
    "                    ax.get_yticks(minor=False)])\n",
    "ax.legend()\n",
    "# fig.savefig(\"out/bandwidth_from_client.png\")\n",
    "plt.show()"
   ]
  },
  {
   "cell_type": "code",
   "execution_count": 234,
   "metadata": {},
   "outputs": [
    {
     "data": {
      "image/png": "[encoded data removed]",
      "text/plain": [
       "<Figure size 432x288 with 1 Axes>"
      ]
     },
     "metadata": {
      "needs_background": "light"
     },
     "output_type": "display_data"
    }
   ],
   "source": [
    "fig, ax = plt.subplots()\n",
    "\n",
    "\n",
    "\n",
    "# ax.set_ylim(0,500)\n",
    "for key in betweenNodesDataset: \n",
    "    ax.plot(betweenNodesDataset[key].index, betweenNodesDataset[key][\"jsonPayload.bytes_sent\"], label=key, marker='o', linestyle='None')\n",
    "# set title and legend\n",
    "ax.set_title('Scenario: Syncmesh\\nBandwidth between Nodes')\n",
    "ax.set_ylabel(\"Bytes\")\n",
    "ax.set_xlabel(\"Time\")\n",
    "box = ax.get_position()\n",
    "ax.set_position([box.x0, box.y0, box.width * 0.4, box.height])\n",
    "ax.set_yticklabels([to_human_readable(v) if v >= 0 else ' ' for v in  \n",
    "                    ax.get_yticks(minor=False)])\n",
    "ax.legend(loc='upper left', bbox_to_anchor=(1.05, 1))\n",
    "\n",
    "fig.savefig(\"out/bandwidth_between_nodes.png\")\n",
    "plt.show()"
   ]
  },
  {
   "cell_type": "markdown",
   "metadata": {},
   "source": [
    "# Comparison"
   ]
  },
  {
   "cell_type": "code",
   "execution_count": 235,
   "metadata": {},
   "outputs": [
    {
     "name": "stdout",
     "output_type": "stream",
     "text": [
      "[16320040, 703702, 6238487]\n"
     ]
    },
    {
     "data": {
      "image/png": "[encoded data removed]",
      "text/plain": [
       "<Figure size 432x288 with 1 Axes>"
      ]
     },
     "metadata": {
      "needs_background": "light"
     },
     "output_type": "display_data"
    }
   ],
   "source": [
    "timedfbaseline = df.loc['2021-7-7 16:10':'2021-7-7 16:14']\n",
    "\n",
    "baselineAggregateBytes = timedfbaseline[\"jsonPayload.bytes_sent\"].sum()\n",
    "baselineAggregateRTT = timedfbaseline[\"jsonPayload.rtt_msec\"].sum()\n",
    "\n",
    "timedfaggregate = df.loc['2021-7-7 16:06':'2021-7-7 16:08']\n",
    "\n",
    "syncmeshAggregateBytes = timedfaggregate[\"jsonPayload.bytes_sent\"].sum()\n",
    "syncmeshAggregateRTT = timedfaggregate[\"jsonPayload.rtt_msec\"].sum()\n",
    "\n",
    "timedfcollect = df.loc['2021-7-7 16:03':'2021-7-7 16:05']\n",
    "\n",
    "syncmeshCollectBytes = timedfcollect[\"jsonPayload.bytes_sent\"].sum()\n",
    "syncmeshCollectRTT = timedfcollect[\"jsonPayload.rtt_msec\"].sum()\n",
    "\n",
    "# timedfbaseline.info()\n",
    "\n",
    "fig, ax = plt.subplots()\n",
    "cases = ['Baseline', 'Syncmesh\\nAggregate', 'Syncmesh\\nCollect']\n",
    "values = [baselineAggregateBytes, syncmeshAggregateBytes, syncmeshCollectBytes]\n",
    "print(values)\n",
    "ax.bar(cases,values)\n",
    "ax.set_title('Comparison: Bytes')\n",
    "ax.set_yticklabels([to_human_readable(v) if v >= 0 else ' ' for v in  \n",
    "                    ax.get_yticks(minor=False)])\n",
    "# ax.set_ylabel(\"Bytes\")\n",
    "# ax.set_xlabel(\"Time\")\n",
    "fig.savefig(\"out/comparison.png\")\n",
    "plt.show()"
   ]
  },
  {
   "cell_type": "code",
   "execution_count": 236,
   "metadata": {},
   "outputs": [
    {
     "data": {
      "image/png": "[encoded data removed]",
      "text/plain": [
       "<Figure size 432x288 with 1 Axes>"
      ]
     },
     "metadata": {
      "needs_background": "light"
     },
     "output_type": "display_data"
    }
   ],
   "source": [
    "fig, ax = plt.subplots()\n",
    "cases = ['Baseline', 'Syncmesh\\nAggregate', 'Syncmesh\\nCollect']\n",
    "values = [baselineAggregateRTT, syncmeshAggregateRTT, syncmeshCollectRTT]\n",
    "ax.bar(cases,values)\n",
    "ax.set_title('Comparison: RTT')\n",
    "ax.set_ylabel(\"Time in MSec\")\n",
    "# ax.set_xlabel(\"Time\")\n",
    "fig.savefig(\"out/comparison_rtt.png\")\n",
    "plt.show()"
   ]
  }
 ],
 "metadata": {
  "interpreter": {
   "hash": "3352614b04f6a771ec3a392566a3763a34cdc96a177f762027aa589f02ec5f67"
  },
  "kernelspec": {
   "display_name": "Python 3.8.3 32-bit",
   "name": "python3"
  },
  "language_info": {
   "codemirror_mode": {
    "name": "ipython",
    "version": 3
   },
   "file_extension": ".py",
   "mimetype": "text/x-python",
   "name": "python",
   "nbconvert_exporter": "python",
   "pygments_lexer": "ipython3",
   "version": "3.8.3"
  },
  "orig_nbformat": 4
 },
 "nbformat": 4,
 "nbformat_minor": 2
}