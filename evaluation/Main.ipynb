{
 "cells": [
  {
   "cell_type": "code",
   "execution_count": 10,
   "metadata": {},
   "outputs": [],
   "source": [
    "import pandas as pd\n",
    "import numpy as np\n",
    "import json\n",
    "import matplotlib.pyplot as plt\n"
   ]
  },
  {
   "cell_type": "code",
   "execution_count": 11,
   "metadata": {},
   "outputs": [
    {
     "name": "stdout",
     "output_type": "stream",
     "text": [
      "<class 'pandas.core.frame.DataFrame'>\n",
      "RangeIndex: 87048 entries, 0 to 87047\n",
      "Data columns (total 22 columns):\n",
      " #   Column                            Non-Null Count  Dtype              \n",
      "---  ------                            --------------  -----              \n",
      " 0   jsonPayload.connection.src_ip     87048 non-null  object             \n",
      " 1   jsonPayload.connection.protocol   87048 non-null  int64              \n",
      " 2   jsonPayload.connection.src_port   87000 non-null  float64            \n",
      " 3   jsonPayload.connection.dest_ip    87048 non-null  object             \n",
      " 4   jsonPayload.connection.dest_port  87000 non-null  float64            \n",
      " 5   jsonPayload.end_time              87048 non-null  object             \n",
      " 6   jsonPayload.bytes_sent            87048 non-null  int32              \n",
      " 7   jsonPayload.start_time            87048 non-null  object             \n",
      " 8   jsonPayload.reporter              87048 non-null  object             \n",
      " 9   jsonPayload.src_vpc               56981 non-null  object             \n",
      " 10  jsonPayload.src_instance          56981 non-null  object             \n",
      " 11  jsonPayload.packets_sent          87048 non-null  object             \n",
      " 12  jsonPayload.dest_vpc              55388 non-null  object             \n",
      " 13  jsonPayload.dest_instance         55388 non-null  object             \n",
      " 14  jsonPayload.rtt_msec              26112 non-null  object             \n",
      " 15  jsonPayload.dest_location         2598 non-null   object             \n",
      " 16  jsonPayload.src_location          2469 non-null   object             \n",
      " 17  logName                           87048 non-null  object             \n",
      " 18  resource                          87048 non-null  object             \n",
      " 19  timestamp                         87048 non-null  datetime64[ns, UTC]\n",
      " 20  receiveTimestamp                  87048 non-null  object             \n",
      " 21  insertId                          87048 non-null  object             \n",
      "dtypes: datetime64[ns, UTC](1), float64(2), int32(1), int64(1), object(17)\n",
      "memory usage: 8.6+ MB\n"
     ]
    }
   ],
   "source": [
    "df = pd.read_json('export.log', lines = True)\n",
    "\n",
    "df = (pd.DataFrame(df['jsonPayload'].values.tolist())\n",
    "        .add_prefix('jsonPayload.')\n",
    "        .join(df.drop('jsonPayload', 1)))\n",
    "df = (pd.DataFrame(df['jsonPayload.connection'].values.tolist())\n",
    "        .add_prefix('jsonPayload.connection.')\n",
    "        .join(df.drop('jsonPayload.connection', 1)))\n",
    "df = df.astype({'jsonPayload.bytes_sent': 'int32'})\n",
    "# df = df.astype({'jsonPayload.connection.src_port': 'int32'})\n",
    "# df = df.astype({'jsonPayload.connection.dest_port': 'int32'})\n",
    "df.info()"
   ]
  },
  {
   "cell_type": "code",
   "execution_count": 12,
   "metadata": {},
   "outputs": [
    {
     "data": {
      "text/plain": [
       "161    9497\n",
       "0      1915\n",
       "322     430\n",
       "184     195\n",
       "215     118\n",
       "       ... \n",
       "228       1\n",
       "333       1\n",
       "354       1\n",
       "167       1\n",
       "198       1\n",
       "Name: jsonPayload.bytes_sent, Length: 64, dtype: int64"
      ]
     },
     "execution_count": 12,
     "metadata": {},
     "output_type": "execute_result"
    }
   ],
   "source": [
    "fromClient = df[df['jsonPayload.connection.src_ip']=='10.2.0.5']\n",
    "fromClientTo4 = fromClient[fromClient['jsonPayload.connection.dest_ip']=='10.2.0.4']\n",
    "fromClientTo4 = fromClientTo4[fromClientTo4['jsonPayload.connection.dest_port']==8080]\n",
    "# fromClientTo4 = fromClientTo4[fromClientTo4['jsonPayload.bytes_sent']>200]\n",
    "fromClientTo4.head()\n",
    "fromClientTo4['jsonPayload.connection.protocol'].value_counts()\n",
    "fromClientTo4['jsonPayload.bytes_sent'].value_counts()\n",
    "# fromClientTo4.info()"
   ]
  },
  {
   "cell_type": "code",
   "execution_count": 13,
   "metadata": {},
   "outputs": [
    {
     "data": {
      "text/plain": [
       "(array([1.915e+03, 0.000e+00, 0.000e+00, 0.000e+00, 0.000e+00, 0.000e+00,\n",
       "        0.000e+00, 0.000e+00, 0.000e+00, 0.000e+00, 0.000e+00, 0.000e+00,\n",
       "        0.000e+00, 0.000e+00, 0.000e+00, 0.000e+00, 9.504e+03, 1.240e+02,\n",
       "        2.300e+02, 6.000e+01, 3.500e+01, 1.180e+02, 8.000e+00, 1.100e+01,\n",
       "        4.000e+00, 3.700e+01, 5.000e+00, 0.000e+00, 0.000e+00, 3.300e+01,\n",
       "        6.000e+00, 0.000e+00, 4.300e+02, 1.000e+00, 1.800e+01, 1.000e+00,\n",
       "        1.100e+01, 3.000e+00, 2.000e+00, 0.000e+00, 2.000e+00, 0.000e+00,\n",
       "        1.700e+01, 0.000e+00, 0.000e+00, 0.000e+00, 0.000e+00, 0.000e+00,\n",
       "        2.000e+00, 0.000e+00, 0.000e+00, 0.000e+00, 0.000e+00, 4.000e+00,\n",
       "        0.000e+00, 0.000e+00, 0.000e+00, 0.000e+00, 0.000e+00, 0.000e+00,\n",
       "        0.000e+00, 0.000e+00, 0.000e+00, 0.000e+00, 3.400e+01, 0.000e+00,\n",
       "        0.000e+00, 0.000e+00, 0.000e+00, 1.000e+00, 0.000e+00, 0.000e+00,\n",
       "        2.000e+00, 0.000e+00, 0.000e+00, 0.000e+00, 0.000e+00, 0.000e+00,\n",
       "        0.000e+00, 0.000e+00, 1.000e+00, 0.000e+00, 0.000e+00, 0.000e+00,\n",
       "        0.000e+00, 0.000e+00, 0.000e+00, 0.000e+00, 0.000e+00, 0.000e+00,\n",
       "        0.000e+00, 0.000e+00, 0.000e+00, 0.000e+00, 0.000e+00, 0.000e+00,\n",
       "        2.000e+00, 0.000e+00, 0.000e+00, 0.000e+00, 0.000e+00, 0.000e+00,\n",
       "        0.000e+00, 0.000e+00, 0.000e+00, 0.000e+00, 0.000e+00, 0.000e+00,\n",
       "        0.000e+00, 0.000e+00, 0.000e+00, 0.000e+00, 0.000e+00, 0.000e+00,\n",
       "        0.000e+00, 0.000e+00, 0.000e+00, 0.000e+00, 0.000e+00, 0.000e+00,\n",
       "        0.000e+00, 0.000e+00, 0.000e+00, 0.000e+00, 0.000e+00, 0.000e+00,\n",
       "        0.000e+00, 0.000e+00, 7.000e+00]),\n",
       " array([   0,   10,   20,   30,   40,   50,   60,   70,   80,   90,  100,\n",
       "         110,  120,  130,  140,  150,  160,  170,  180,  190,  200,  210,\n",
       "         220,  230,  240,  250,  260,  270,  280,  290,  300,  310,  320,\n",
       "         330,  340,  350,  360,  370,  380,  390,  400,  410,  420,  430,\n",
       "         440,  450,  460,  470,  480,  490,  500,  510,  520,  530,  540,\n",
       "         550,  560,  570,  580,  590,  600,  610,  620,  630,  640,  650,\n",
       "         660,  670,  680,  690,  700,  710,  720,  730,  740,  750,  760,\n",
       "         770,  780,  790,  800,  810,  820,  830,  840,  850,  860,  870,\n",
       "         880,  890,  900,  910,  920,  930,  940,  950,  960,  970,  980,\n",
       "         990, 1000, 1010, 1020, 1030, 1040, 1050, 1060, 1070, 1080, 1090,\n",
       "        1100, 1110, 1120, 1130, 1140, 1150, 1160, 1170, 1180, 1190, 1200,\n",
       "        1210, 1220, 1230, 1240, 1250, 1260, 1270, 1280, 1290]),\n",
       " <a list of 129 Patch objects>)"
      ]
     },
     "execution_count": 13,
     "metadata": {},
     "output_type": "execute_result"
    },
    {
     "data": {
      "image/png": "[encoded data removed]",
      "text/plain": [
       "<Figure size 432x288 with 1 Axes>"
      ]
     },
     "metadata": {
      "needs_background": "light"
     },
     "output_type": "display_data"
    }
   ],
   "source": [
    "fig, ax = plt.subplots()\n",
    "# plot histogram\n",
    "binwidth = 10\n",
    "ax.hist(fromClientTo4['jsonPayload.bytes_sent'], bins=range(min(fromClientTo4['jsonPayload.bytes_sent']), max(fromClientTo4['jsonPayload.bytes_sent']) + binwidth, binwidth))"
   ]
  },
  {
   "cell_type": "code",
   "execution_count": 14,
   "metadata": {},
   "outputs": [
    {
     "data": {
      "text/plain": [
       "<matplotlib.legend.Legend at 0x4902e400>"
      ]
     },
     "execution_count": 14,
     "metadata": {},
     "output_type": "execute_result"
    },
    {
     "data": {
      "image/png": "[encoded data removed]",
      "text/plain": [
       "<Figure size 432x288 with 1 Axes>"
      ]
     },
     "metadata": {
      "needs_background": "light"
     },
     "output_type": "display_data"
    }
   ],
   "source": [
    "columns = fromClient[[\"jsonPayload.bytes_sent\"]]\n",
    "# create x data\n",
    "x_data = range(0, fromClient.shape[0])\n",
    "# create figure and axis\n",
    "fig, ax = plt.subplots()\n",
    "ax.set_ylim(0,500)\n",
    "# plot each column\n",
    "# fromClientTo4.groupby(fromClientTo4[\"timestamp\"].dt.minute)[\"jsonPayload.bytes_sent\"].mean().plot(\n",
    "#     kind='bar', rot=0, ax=ax\n",
    "# )\n",
    "ax.plot(fromClientTo4[\"timestamp\"], fromClientTo4[\"jsonPayload.bytes_sent\"], label=\"From Client to 4\")\n",
    "# set title and legend\n",
    "ax.set_title('Bandwidth from Client')\n",
    "ax.legend()"
   ]
  },
  {
   "cell_type": "code",
   "execution_count": null,
   "metadata": {},
   "outputs": [],
   "source": []
  }
 ],
 "metadata": {
  "interpreter": {
   "hash": "3352614b04f6a771ec3a392566a3763a34cdc96a177f762027aa589f02ec5f67"
  },
  "kernelspec": {
   "display_name": "Python 3.8.3 32-bit ('Python38-32')",
   "name": "python3"
  },
  "language_info": {
   "name": "python",
   "version": ""
  },
  "orig_nbformat": 4
 },
 "nbformat": 4,
 "nbformat_minor": 2
}