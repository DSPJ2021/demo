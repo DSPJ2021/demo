{
 "cells": [
  {
   "cell_type": "markdown",
   "metadata": {},
   "source": [
    "# Imports"
   ]
  },
  {
   "cell_type": "code",
   "execution_count": 1,
   "metadata": {},
   "outputs": [],
   "source": [
    "import pandas as pd\n",
    "import numpy as np\n",
    "import json\n",
    "import matplotlib.pyplot as plt\n"
   ]
  },
  {
   "cell_type": "markdown",
   "metadata": {},
   "source": [
    "# Data Preparation"
   ]
  },
  {
   "cell_type": "code",
   "execution_count": 2,
   "metadata": {},
   "outputs": [
    {
     "data": {
      "text/html": [
       "<div>\n",
       "<style scoped>\n",
       "    .dataframe tbody tr th:only-of-type {\n",
       "        vertical-align: middle;\n",
       "    }\n",
       "\n",
       "    .dataframe tbody tr th {\n",
       "        vertical-align: top;\n",
       "    }\n",
       "\n",
       "    .dataframe thead th {\n",
       "        text-align: right;\n",
       "    }\n",
       "</style>\n",
       "<table border=\"1\" class=\"dataframe\">\n",
       "  <thead>\n",
       "    <tr style=\"text-align: right;\">\n",
       "      <th></th>\n",
       "      <th>jsonPayload.connection.src_ip</th>\n",
       "      <th>jsonPayload.connection.dest_ip</th>\n",
       "      <th>jsonPayload.bytes_sent</th>\n",
       "      <th>jsonPayload.rtt_msec</th>\n",
       "      <th>timestamp</th>\n",
       "    </tr>\n",
       "  </thead>\n",
       "  <tbody>\n",
       "    <tr>\n",
       "      <th>7</th>\n",
       "      <td>10.2.0.2</td>\n",
       "      <td>10.2.0.10</td>\n",
       "      <td>162</td>\n",
       "      <td>0</td>\n",
       "      <td>2021-07-06 18:41:47.579858+00:00</td>\n",
       "    </tr>\n",
       "    <tr>\n",
       "      <th>10</th>\n",
       "      <td>10.2.0.2</td>\n",
       "      <td>10.2.0.12</td>\n",
       "      <td>0</td>\n",
       "      <td>0</td>\n",
       "      <td>2021-07-06 18:41:53.805412+00:00</td>\n",
       "    </tr>\n",
       "    <tr>\n",
       "      <th>11</th>\n",
       "      <td>10.2.0.2</td>\n",
       "      <td>10.2.0.12</td>\n",
       "      <td>0</td>\n",
       "      <td>37</td>\n",
       "      <td>2021-07-06 18:41:54.760529+00:00</td>\n",
       "    </tr>\n",
       "    <tr>\n",
       "      <th>14</th>\n",
       "      <td>10.2.0.2</td>\n",
       "      <td>10.2.0.10</td>\n",
       "      <td>162</td>\n",
       "      <td>0</td>\n",
       "      <td>2021-07-06 18:42:11.659794+00:00</td>\n",
       "    </tr>\n",
       "    <tr>\n",
       "      <th>15</th>\n",
       "      <td>10.2.0.2</td>\n",
       "      <td>10.2.0.12</td>\n",
       "      <td>162</td>\n",
       "      <td>0</td>\n",
       "      <td>2021-07-06 18:42:14.230429+00:00</td>\n",
       "    </tr>\n",
       "  </tbody>\n",
       "</table>\n",
       "</div>"
      ],
      "text/plain": [
       "   jsonPayload.connection.src_ip jsonPayload.connection.dest_ip  \\\n",
       "7                       10.2.0.2                      10.2.0.10   \n",
       "10                      10.2.0.2                      10.2.0.12   \n",
       "11                      10.2.0.2                      10.2.0.12   \n",
       "14                      10.2.0.2                      10.2.0.10   \n",
       "15                      10.2.0.2                      10.2.0.12   \n",
       "\n",
       "    jsonPayload.bytes_sent  jsonPayload.rtt_msec  \\\n",
       "7                      162                     0   \n",
       "10                       0                     0   \n",
       "11                       0                    37   \n",
       "14                     162                     0   \n",
       "15                     162                     0   \n",
       "\n",
       "                          timestamp  \n",
       "7  2021-07-06 18:41:47.579858+00:00  \n",
       "10 2021-07-06 18:41:53.805412+00:00  \n",
       "11 2021-07-06 18:41:54.760529+00:00  \n",
       "14 2021-07-06 18:42:11.659794+00:00  \n",
       "15 2021-07-06 18:42:14.230429+00:00  "
      ]
     },
     "execution_count": 2,
     "metadata": {},
     "output_type": "execute_result"
    }
   ],
   "source": [
    "df = pd.read_json('export.log', lines = True)\n",
    "\n",
    "df = (pd.DataFrame(df['jsonPayload'].values.tolist())\n",
    "        .add_prefix('jsonPayload.')\n",
    "        .join(df.drop('jsonPayload', 1)))\n",
    "df = (pd.DataFrame(df['jsonPayload.connection'].values.tolist())\n",
    "        .add_prefix('jsonPayload.connection.')\n",
    "        .join(df.drop('jsonPayload.connection', 1)))\n",
    "df = df.dropna(subset=['jsonPayload.rtt_msec'])\n",
    "df = df.astype({\n",
    "    'jsonPayload.bytes_sent': 'int32',\n",
    "    'jsonPayload.rtt_msec': 'int32'\n",
    "    })\n",
    "# df = df.astype({'jsonPayload.connection.src_port': 'int32'})\n",
    "# df = df.astype({'jsonPayload.connection.dest_port': 'int32'})\n",
    "df[[\"jsonPayload.connection.src_ip\", \"jsonPayload.connection.dest_ip\", \"jsonPayload.bytes_sent\", \"jsonPayload.rtt_msec\", \"timestamp\"]].head()\n",
    "# df.info()"
   ]
  },
  {
   "cell_type": "code",
   "execution_count": 26,
   "metadata": {},
   "outputs": [
    {
     "data": {
      "text/plain": [
       "91.3.168.239    182\n",
       "10.2.0.10       131\n",
       "10.2.0.11         9\n",
       "10.2.0.12         7\n",
       "Name: jsonPayload.connection.src_ip, dtype: int64"
      ]
     },
     "execution_count": 26,
     "metadata": {},
     "output_type": "execute_result"
    }
   ],
   "source": [
    "fromClient = df[df['jsonPayload.connection.src_ip']=='10.2.0.2']\n",
    "toServer = df[df['jsonPayload.connection.dest_ip']=='10.2.0.3']\n",
    "\n",
    "nodes = [\"10.2.0.10\", \"10.2.0.11\", \"10.2.0.12\"]\n",
    "fromClientDataset = {}\n",
    "toServerDataset = {}\n",
    "for node in nodes: \n",
    "    fromClientDataset[node] = fromClient[fromClient['jsonPayload.connection.dest_ip']==node]\n",
    "\n",
    "for node in nodes: \n",
    "    toServerDataset[node] = toServer[toServer['jsonPayload.connection.src_ip']==node]\n",
    "\n",
    "\n",
    "# fromClientTo4 = fromClientTo4[fromClientTo4['jsonPayload.connection.dest_port']==8080]\n",
    "# fromClientTo4 = fromClientTo4[fromClientTo4['jsonPayload.bytes_sent']!=0]\n",
    "# toServer.head()\n",
    "# toServerDataset[\"10.2.0.11\"].info()\n",
    "toServer['jsonPayload.connection.src_ip'].value_counts()\n",
    "# fromClientTo4['jsonPayload.connection.protocol'].value_counts()\n",
    "# fromClientTo4['jsonPayload.bytes_sent'].value_counts()\n",
    "# fromClientTo4.info()"
   ]
  },
  {
   "cell_type": "markdown",
   "metadata": {},
   "source": [
    "# Results"
   ]
  },
  {
   "cell_type": "markdown",
   "metadata": {},
   "source": [
    "## General"
   ]
  },
  {
   "cell_type": "code",
   "execution_count": 5,
   "metadata": {},
   "outputs": [
    {
     "data": {
      "text/plain": [
       "Text(0.5, 1.0, 'Round Trip Time Histogram')"
      ]
     },
     "execution_count": 5,
     "metadata": {},
     "output_type": "execute_result"
    },
    {
     "data": {
      "image/png": "[encoded data removed]",
      "text/plain": [
       "<Figure size 432x288 with 1 Axes>"
      ]
     },
     "metadata": {
      "needs_background": "light"
     },
     "output_type": "display_data"
    }
   ],
   "source": [
    "fig, ax = plt.subplots()\n",
    "ax.hist(df['jsonPayload.rtt_msec'])\n",
    "ax.set_title(\"Round Trip Time Histogram\")"
   ]
  },
  {
   "cell_type": "markdown",
   "metadata": {},
   "source": [
    "## Case: Baseline (Central Mongo)"
   ]
  },
  {
   "cell_type": "code",
   "execution_count": 30,
   "metadata": {},
   "outputs": [
    {
     "data": {
      "text/plain": [
       "<matplotlib.legend.Legend at 0x12bfaf40>"
      ]
     },
     "execution_count": 30,
     "metadata": {},
     "output_type": "execute_result"
    },
    {
     "data": {
      "image/png": "[encoded data removed]",
      "text/plain": [
       "<Figure size 432x288 with 1 Axes>"
      ]
     },
     "metadata": {
      "needs_background": "light"
     },
     "output_type": "display_data"
    }
   ],
   "source": [
    "fig, ax = plt.subplots()\n",
    "# ax.set_ylim(0,500)\n",
    "for key in toServerDataset: \n",
    "    ax.plot(toServerDataset[key][\"timestamp\"], toServerDataset[key][\"jsonPayload.bytes_sent\"], label=key, marker='o', linestyle='None')\n",
    "# set title and legend\n",
    "ax.set_title('Bandwidth from Client')\n",
    "ax.legend()"
   ]
  },
  {
   "cell_type": "code",
   "execution_count": 30,
   "metadata": {},
   "outputs": [
    {
     "data": {
      "text/plain": [
       "<matplotlib.legend.Legend at 0x12bfaf40>"
      ]
     },
     "output_type": "unknown"
    },
    {
     "data": {
      "image/png": "[encoded data removed]",
      "text/plain": [
       "<Figure size 432x288 with 1 Axes>"
      ]
     },
     "output_type": "unknown"
    }
   ],
   "source": [
    "fig, ax = plt.subplots()\n",
    "# ax.set_ylim(0,500)\n",
    "for key in toServerDataset: \n",
    "    ax.plot(toServerDataset[key][\"timestamp\"], toServerDataset[key][\"jsonPayload.bytes_sent\"], label=key, marker='o', linestyle='None')\n",
    "# set title and legend\n",
    "ax.set_title('Bandwidth Accumulated')\n",
    "ax.legend()"
   ]
  },
  {
   "cell_type": "markdown",
   "metadata": {},
   "source": [
    "## Case: Syncmesh"
   ]
  },
  {
   "cell_type": "code",
   "execution_count": 4,
   "metadata": {},
   "outputs": [
    {
     "data": {
      "text/plain": [
       "Text(0.5, 1.0, 'Package Size Histogram for Client to 4')"
      ]
     },
     "execution_count": 4,
     "metadata": {},
     "output_type": "execute_result"
    },
    {
     "data": {
      "image/png": "[encoded data removed]",
      "text/plain": [
       "<Figure size 432x288 with 1 Axes>"
      ]
     },
     "metadata": {
      "needs_background": "light"
     },
     "output_type": "display_data"
    }
   ],
   "source": [
    "fig, ax = plt.subplots()\n",
    "# plot histogram\n",
    "binwidth = 10\n",
    "ax.hist(fromClientTo4['jsonPayload.bytes_sent'], bins=range(min(fromClientTo4['jsonPayload.bytes_sent']), max(fromClientTo4['jsonPayload.bytes_sent']) + binwidth, binwidth))\n",
    "ax.set_title(\"Package Size Histogram for Client to 4\")"
   ]
  },
  {
   "cell_type": "code",
   "execution_count": 6,
   "metadata": {},
   "outputs": [
    {
     "data": {
      "text/plain": [
       "<matplotlib.legend.Legend at 0xff46808>"
      ]
     },
     "execution_count": 6,
     "metadata": {},
     "output_type": "execute_result"
    },
    {
     "data": {
      "image/png": "[encoded data removed]",
      "text/plain": [
       "<Figure size 432x288 with 1 Axes>"
      ]
     },
     "metadata": {
      "needs_background": "light"
     },
     "output_type": "display_data"
    }
   ],
   "source": [
    "columns = fromClient[[\"jsonPayload.bytes_sent\"]]\n",
    "# create x data\n",
    "x_data = range(0, fromClient.shape[0])\n",
    "# create figure and axis\n",
    "fig, ax = plt.subplots()\n",
    "ax.set_ylim(0,500)\n",
    "# plot each column\n",
    "# fromClientTo4.groupby(fromClientTo4[\"timestamp\"].dt.minute)[\"jsonPayload.bytes_sent\"].mean().plot(\n",
    "#     kind='bar', rot=0, ax=ax\n",
    "# )\n",
    "ax.plot(fromClientTo4[\"timestamp\"], fromClientTo4[\"jsonPayload.bytes_sent\"], label=\"From Client to 4\")\n",
    "# set title and legend\n",
    "ax.set_title('Bandwidth from Client')\n",
    "ax.legend()"
   ]
  },
  {
   "cell_type": "markdown",
   "metadata": {},
   "source": [
    "# Comparison"
   ]
  },
  {
   "cell_type": "code",
   "execution_count": null,
   "metadata": {},
   "outputs": [],
   "source": []
  }
 ],
 "metadata": {
  "interpreter": {
   "hash": "3352614b04f6a771ec3a392566a3763a34cdc96a177f762027aa589f02ec5f67"
  },
  "kernelspec": {
   "display_name": "Python 3.8.3 32-bit ('Python38-32')",
   "name": "python3"
  },
  "language_info": {
   "name": "python",
   "version": ""
  },
  "orig_nbformat": 4
 },
 "nbformat": 4,
 "nbformat_minor": 2
}