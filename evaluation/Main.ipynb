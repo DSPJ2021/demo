{
 "cells": [
  {
   "cell_type": "markdown",
   "source": [
    "# Imports"
   ],
   "metadata": {}
  },
  {
   "cell_type": "code",
   "execution_count": 1,
   "source": [
    "import pandas as pd\n",
    "import numpy as np\n",
    "import json\n",
    "import matplotlib.pyplot as plt\n",
    "import itertools\n",
    "import datetime"
   ],
   "outputs": [],
   "metadata": {}
  },
  {
   "cell_type": "markdown",
   "source": [
    "# Variables and Utils"
   ],
   "metadata": {}
  },
  {
   "cell_type": "code",
   "execution_count": 2,
   "source": [
    "ip_client = \"10.1.0.2\"\n",
    "ip_server = \"10.1.0.3\"\n",
    "ip_orchestrator = \"10.1.0.255\"\n",
    "ip_seperator = \"92.60.39.199\"\n",
    "\n",
    "allPreKnownServers = [ip_client, ip_server]\n",
    "print(allPreKnownServers)\n",
    "\n",
    "def to_human_readable(size):\n",
    "    power = 1000\n",
    "    n = 0\n",
    "    mem = {0 : 'B', 1: 'KB', 2: 'MB', 3: 'GB', 4: 'TB'}\n",
    "    while size > power:\n",
    "        size /=  power\n",
    "        n += 1\n",
    "    return \"{0} {1}\".format(size, mem[n])"
   ],
   "outputs": [
    {
     "output_type": "stream",
     "name": "stdout",
     "text": [
      "['10.1.0.2', '10.1.0.3']\n"
     ]
    }
   ],
   "metadata": {}
  },
  {
   "cell_type": "code",
   "execution_count": 26,
   "source": [
    "\n",
    "# Get Data\n",
    "from google.cloud import bigquery\n",
    "from google.cloud import storage\n",
    "from google.oauth2 import service_account\n",
    "from google.cloud.bigquery.job import ExtractJobConfig\n",
    "credentials = service_account.Credentials.from_service_account_file(\n",
    "    '../infrastructure/credentials.json')\n",
    "\n",
    "project_id = '932771810925' # Our project ID\n",
    "\n",
    "client = bigquery.Client(credentials=credentials)\n",
    "project = \"dspj-315716\"\n",
    "today = datetime.datetime.today()\n",
    "table_id = f\"compute_googleapis_com_vpc_flows_{today.strftime('%Y%m%d')}\"\n",
    "# table_id = 'compute_googleapis_com_vpc_flows_20210719'\n",
    "blob_name = \"export.log\"\n",
    "\n",
    "\n",
    "\n",
    "extract_conf = ExtractJobConfig()\n",
    "extract_conf.compression = 'NONE'\n",
    "extract_conf.destination_format = 'NEWLINE_DELIMITED_JSON'\n",
    "\n",
    "def getDataset(experiment): \n",
    "    bucket_name = experiment + \"-log-bucket\"\n",
    "\n",
    "    destination_uri = \"gs://{}/{}\".format(bucket_name, blob_name)\n",
    "    dataset_ref = bigquery.DatasetReference(project, experiment.replace(\"-\", \"_\"))\n",
    "    table_ref = dataset_ref.table(table_id)\n",
    "\n",
    "    extract_job = client.extract_table(\n",
    "        table_ref,\n",
    "        destination_uri,\n",
    "        # Location must match that of the source table.\n",
    "        location=\"US\",\n",
    "        job_config=extract_conf\n",
    "    )  # API request\n",
    "    extract_job.result()  # Waits for job to complete.\n",
    "\n",
    "    print(\n",
    "        \"Exported {}:{}.{} to {}\".format(project, experiment, table_id, destination_uri)\n",
    "    )\n",
    "\n",
    "\n",
    "    storage_client = storage.Client(credentials=credentials)\n",
    "\n",
    "    bucket = storage_client.bucket(bucket_name)\n",
    "    blob = bucket.blob(blob_name)\n",
    "    blob.download_to_filename(f\"export_{experiment}.log\")\n",
    "\n",
    "    print(\n",
    "        \"Blob {} downloaded successfully \".format(\n",
    "            blob_name\n",
    "        )\n",
    "    )\n",
    "\n",
    "try: \n",
    "    getDataset(\"experiment-baseline-with-latency\")\n",
    "except Exception as e: \n",
    "    print(e)\n",
    "try: \n",
    "    getDataset(\"experiment-syncmesh-with-latency\")\n",
    "except Exception as e: \n",
    "    print(e)"
   ],
   "outputs": [
    {
     "output_type": "stream",
     "name": "stdout",
     "text": [
      "Exported dspj-315716:experiment-baseline-with-latency.compute_googleapis_com_vpc_flows_20210720 to gs://experiment-baseline-with-latency-log-bucket/export.log\n",
      "Blob export.log downloaded successfully \n",
      "404 POST https://bigquery.googleapis.com/bigquery/v2/projects/dspj-315716/jobs?prettyPrint=false: Not found: Dataset dspj-315716:experiment_syncmesh_with_latency\n"
     ]
    }
   ],
   "metadata": {}
  },
  {
   "cell_type": "markdown",
   "source": [
    "# Data Preparation"
   ],
   "metadata": {}
  },
  {
   "cell_type": "code",
   "execution_count": 37,
   "source": [
    "def loadData(file):\n",
    "    df = pd.read_json(file, lines = True)\n",
    "\n",
    "    df = (pd.DataFrame(df['jsonPayload'].values.tolist())\n",
    "            .add_prefix('jsonPayload.')\n",
    "            .join(df.drop('jsonPayload', 1)))\n",
    "    df = (pd.DataFrame(df['jsonPayload.connection'].values.tolist())\n",
    "            .add_prefix('jsonPayload.connection.')\n",
    "            .join(df.drop('jsonPayload.connection', 1)))\n",
    "    df = df.dropna(subset=['jsonPayload.rtt_msec'])\n",
    "    df = df.astype({\n",
    "        'jsonPayload.bytes_sent': 'int32',\n",
    "        'jsonPayload.rtt_msec': 'int32'\n",
    "        })\n",
    "    df = df.astype({'jsonPayload.connection.src_port': 'int32'})\n",
    "    df = df.astype({'jsonPayload.connection.dest_port': 'int32'})\n",
    "    # df.info()\n",
    "    df.set_index('timestamp', inplace=True)\n",
    "    return df\n",
    "\n",
    "df = loadData('export_experiment-syncmesh-with-latency.log')\n",
    "# df = loadData('export_experiment-baseline-with-latency.log')\n",
    "\n",
    "orig_df = df\n",
    "# df.head()\n",
    "# Filter Entries for internal Traffic which is where the Benchmark Traffic is\n",
    "df = df[df[\"jsonPayload.connection.src_ip\"].str.contains(r'^10\\.')]\n",
    "df = df[df[\"jsonPayload.connection.dest_ip\"].str.contains(r'^10\\.')]\n",
    "\n",
    "# TODO: Filter Entries for port specific traffic\n",
    "\n",
    "sep_df = orig_df[orig_df[\"jsonPayload.connection.src_ip\"].isin([ip_seperator, ip_orchestrator])]\n",
    "sep_df = orig_df[orig_df[\"jsonPayload.connection.dest_ip\"].isin([ip_seperator, ip_orchestrator])]\n",
    "# df = df[df[\"jsonPayload.connection.dest_ip\"]]\n",
    "# print(sep_df[\"jsonPayload.connection.src_port\"].head())\n",
    "\n",
    "nodes = list(dict.fromkeys(df[\"jsonPayload.connection.dest_ip\"].unique().tolist() + df[\"jsonPayload.connection.src_ip\"].unique().tolist()))\n",
    "nodes = [node for node in nodes if node not in [ip_client, ip_server, ip_orchestrator]]\n",
    "# print(nodes)\n",
    "\n",
    "# Print Table\n",
    "# df[[\"jsonPayload.connection.src_ip\", \"jsonPayload.connection.src_port\", \"jsonPayload.connection.dest_ip\", \"jsonPayload.bytes_sent\", \"jsonPayload.rtt_msec\"]].unique()\n",
    "df.index\n",
    "\n"
   ],
   "outputs": [
    {
     "output_type": "execute_result",
     "data": {
      "text/plain": [
       "DatetimeIndex(['2021-07-20 13:35:13.502350+00:00',\n",
       "               '2021-07-20 13:35:13.502350+00:00',\n",
       "               '2021-07-20 13:35:13.502350+00:00',\n",
       "               '2021-07-20 13:35:13.502350+00:00',\n",
       "               '2021-07-20 13:35:21.468524+00:00',\n",
       "               '2021-07-20 13:35:21.468524+00:00',\n",
       "               '2021-07-20 13:37:18.588907+00:00',\n",
       "               '2021-07-20 13:37:18.588907+00:00',\n",
       "               '2021-07-20 13:37:20.702752+00:00',\n",
       "               '2021-07-20 13:37:20.702752+00:00',\n",
       "               ...\n",
       "               '2021-07-20 13:34:13.069736+00:00',\n",
       "               '2021-07-20 13:34:13.069736+00:00',\n",
       "               '2021-07-20 13:34:15.853787+00:00',\n",
       "               '2021-07-20 13:34:15.853787+00:00',\n",
       "               '2021-07-20 13:34:15.853787+00:00',\n",
       "               '2021-07-20 13:34:15.853787+00:00',\n",
       "               '2021-07-20 13:34:21.437047+00:00',\n",
       "               '2021-07-20 13:34:21.437047+00:00',\n",
       "               '2021-07-20 13:34:25.891518+00:00',\n",
       "               '2021-07-20 13:34:25.891518+00:00'],\n",
       "              dtype='datetime64[ns, UTC]', name='timestamp', length=470, freq=None)"
      ]
     },
     "metadata": {},
     "execution_count": 37
    }
   ],
   "metadata": {}
  },
  {
   "cell_type": "code",
   "execution_count": 38,
   "source": [
    "fromClient = df[df['jsonPayload.connection.src_ip']==ip_client]\n",
    "toServer = df[df['jsonPayload.connection.dest_ip']==ip_server]\n",
    "\n",
    "\n",
    "fromClientDataset = {}\n",
    "toServerDataset = {}\n",
    "betweenNodesDataset = {}\n",
    "for node in nodes: \n",
    "    fromClientDataset[node] = fromClient[fromClient['jsonPayload.connection.dest_ip']==node]\n",
    "\n",
    "nodeCombinations = list(itertools.combinations(nodes, r=2))\n",
    "for combination in nodeCombinations: \n",
    "    # Use both src_ip and dest_ip as they are not request related\n",
    "    fromNode = df[df['jsonPayload.connection.src_ip'].isin(combination)]\n",
    "    # fromAnyNode = df[df[\"jsonPayload.connection.src_ip\"].isin(nodes)]\n",
    "    betweenNodesDataset[\"between \" + combination[0] + \" and \" + combination[1]] = fromNode[fromNode['jsonPayload.connection.dest_ip'].isin(combination)]\n",
    "\n",
    "for node in nodes: \n",
    "    toServerDataset[node] = toServer[toServer['jsonPayload.connection.src_ip']==node]\n",
    "\n",
    "\n",
    "\n",
    "# print(nodeCombinations)\n",
    "# toServer.head()\n",
    "# toServerDataset[\"10.2.0.12\"].head()\n",
    "# betweenNodesDataset['between 10.1.0.11 and 10.3.0.13'].info()\n",
    "# fromClientDataset"
   ],
   "outputs": [],
   "metadata": {}
  },
  {
   "cell_type": "markdown",
   "source": [
    "# Results"
   ],
   "metadata": {}
  },
  {
   "cell_type": "markdown",
   "source": [
    "## General"
   ],
   "metadata": {}
  },
  {
   "cell_type": "code",
   "execution_count": 39,
   "source": [
    "fig, ax = plt.subplots()\n",
    "remove0 = df[df['jsonPayload.bytes_sent']!=0]\n",
    "ax.hist(remove0['jsonPayload.rtt_msec'])\n",
    "ax.set_title(\"Round Trip Time Histogram\")\n",
    "ax.set_ylabel(\"Requests\")\n",
    "ax.set_xlabel(\"Round Trip Time (msec)\")"
   ],
   "outputs": [
    {
     "output_type": "execute_result",
     "data": {
      "text/plain": [
       "Text(0.5, 0, 'Round Trip Time (msec)')"
      ]
     },
     "metadata": {},
     "execution_count": 39
    },
    {
     "output_type": "display_data",
     "data": {
      "text/plain": [
       "<Figure size 432x288 with 1 Axes>"
      ],
      "image/png": "[encoded data removed]"
     },
     "metadata": {
      "needs_background": "light"
     }
    }
   ],
   "metadata": {}
  },
  {
   "cell_type": "markdown",
   "source": [
    "## Case: Baseline (Central Mongo)"
   ],
   "metadata": {}
  },
  {
   "cell_type": "code",
   "execution_count": 40,
   "source": [
    "fig, ax = plt.subplots()\n",
    "# ax.set_ylim(0,500)\n",
    "for key in toServerDataset: \n",
    "    ax.plot(toServerDataset[key].index, toServerDataset[key][\"jsonPayload.bytes_sent\"], label=\"from \" + key, marker='o', linestyle='None')\n",
    "# set title and legend\n",
    "ax.set_title('Scenario: Baseline\\nBandwidth to Server')\n",
    "ax.set_ylabel(\"Bytes\")\n",
    "ax.set_yticklabels([to_human_readable(v) if v >= 0 else ' ' for v in  \n",
    "                    ax.get_yticks(minor=False)])\n",
    "ax.set_xlabel(\"Time\")\n",
    "ax.legend()\n",
    "fig.savefig(\"out/bandwidth_to_server.png\")\n",
    "plt.show()"
   ],
   "outputs": [
    {
     "output_type": "display_data",
     "data": {
      "text/plain": [
       "<Figure size 432x288 with 1 Axes>"
      ],
      "image/png": "[encoded data removed]"
     },
     "metadata": {
      "needs_background": "light"
     }
    }
   ],
   "metadata": {}
  },
  {
   "cell_type": "code",
   "execution_count": 41,
   "source": [
    "fig, ax = plt.subplots()\n",
    "# ax.set_ylim(0,500)\n",
    "for key in toServerDataset: \n",
    "    ax.plot(toServerDataset[key].index, toServerDataset[key][\"jsonPayload.bytes_sent\"], label=key, marker='o', linestyle='None')\n",
    "# set title and legend\n",
    "ax.set_title('Bandwidth Accumulated')\n",
    "ax.set_yticklabels([to_human_readable(v) if v >= 0 else ' ' for v in  \n",
    "                    ax.get_yticks(minor=False)])\n",
    "ax.legend()\n",
    "plt.show()"
   ],
   "outputs": [
    {
     "output_type": "display_data",
     "data": {
      "text/plain": [
       "<Figure size 432x288 with 1 Axes>"
      ],
      "image/png": "[encoded data removed]"
     },
     "metadata": {
      "needs_background": "light"
     }
    }
   ],
   "metadata": {}
  },
  {
   "cell_type": "markdown",
   "source": [
    "## Case: Syncmesh"
   ],
   "metadata": {}
  },
  {
   "cell_type": "code",
   "execution_count": 42,
   "source": [
    "fig, ax = plt.subplots()\n",
    "# plot histogram\n",
    "binwidth = 10\n",
    "\n",
    "# ax.hist(fromClientTo4['jsonPayload.bytes_sent'], bins=range(min(fromClientTo4['jsonPayload.bytes_sent']), max(fromClientTo4['jsonPayload.bytes_sent']) + binwidth, binwidth))\n",
    "# ax.set_title(\"Package Size Histogram for Client to 4\")"
   ],
   "outputs": [
    {
     "output_type": "display_data",
     "data": {
      "text/plain": [
       "<Figure size 432x288 with 1 Axes>"
      ],
      "image/png": "[encoded data removed]"
     },
     "metadata": {
      "needs_background": "light"
     }
    }
   ],
   "metadata": {}
  },
  {
   "cell_type": "code",
   "execution_count": 43,
   "source": [
    "fig, ax = plt.subplots()\n",
    "# ax.set_ylim(0,500)\n",
    "for key in fromClientDataset: \n",
    "    ax.plot(fromClientDataset[key].index, fromClientDataset[key][\"jsonPayload.bytes_sent\"], label=\"to \" + key, marker='o', linestyle='None')\n",
    "# set title and legend\n",
    "ax.set_title('Scenario: Syncmesh\\nBandwidth to Client')\n",
    "ax.set_ylabel(\"Bytes\")\n",
    "ax.set_xlabel(\"Time\")\n",
    "ax.set_yticklabels([to_human_readable(v) if v >= 0 else ' ' for v in  \n",
    "                    ax.get_yticks(minor=False)])\n",
    "ax.legend()\n",
    "# fig.savefig(\"out/bandwidth_from_client.png\")\n",
    "plt.show()"
   ],
   "outputs": [
    {
     "output_type": "display_data",
     "data": {
      "text/plain": [
       "<Figure size 432x288 with 1 Axes>"
      ],
      "image/png": "[encoded data removed]"
     },
     "metadata": {
      "needs_background": "light"
     }
    }
   ],
   "metadata": {}
  },
  {
   "cell_type": "code",
   "execution_count": 44,
   "source": [
    "fig, ax = plt.subplots()\n",
    "\n",
    "\n",
    "\n",
    "# ax.set_ylim(0,500)\n",
    "for key in betweenNodesDataset: \n",
    "    ax.plot(betweenNodesDataset[key].index, betweenNodesDataset[key][\"jsonPayload.bytes_sent\"], label=key, marker='o', linestyle='None')\n",
    "# set title and legend\n",
    "ax.set_title('Scenario: Syncmesh\\nBandwidth between Nodes')\n",
    "ax.set_ylabel(\"Bytes\")\n",
    "ax.set_xlabel(\"Time\")\n",
    "box = ax.get_position()\n",
    "ax.set_position([box.x0, box.y0, box.width * 0.4, box.height])\n",
    "ax.set_yticklabels([to_human_readable(v) if v >= 0 else ' ' for v in  \n",
    "                    ax.get_yticks(minor=False)])\n",
    "ax.legend(loc='upper left', bbox_to_anchor=(1.05, 1))\n",
    "\n",
    "fig.savefig(\"out/bandwidth_between_nodes.png\")\n",
    "plt.show()"
   ],
   "outputs": [
    {
     "output_type": "display_data",
     "data": {
      "text/plain": [
       "<Figure size 432x288 with 1 Axes>"
      ],
      "image/png": "[encoded data removed]"
     },
     "metadata": {
      "needs_background": "light"
     }
    }
   ],
   "metadata": {}
  },
  {
   "cell_type": "markdown",
   "source": [
    "# Comparison"
   ],
   "metadata": {}
  },
  {
   "cell_type": "code",
   "execution_count": 45,
   "source": [
    "timedfbaseline = df.loc['2021-7-7 16:10':'2021-7-7 16:14']\n",
    "\n",
    "baselineAggregateBytes = timedfbaseline[\"jsonPayload.bytes_sent\"].sum()\n",
    "baselineAggregateRTT = timedfbaseline[\"jsonPayload.rtt_msec\"].sum()\n",
    "\n",
    "timedfaggregate = df.loc['2021-7-7 16:06':'2021-7-7 16:08']\n",
    "\n",
    "syncmeshAggregateBytes = timedfaggregate[\"jsonPayload.bytes_sent\"].sum()\n",
    "syncmeshAggregateRTT = timedfaggregate[\"jsonPayload.rtt_msec\"].sum()\n",
    "\n",
    "timedfcollect = df.loc['2021-7-7 16:03':'2021-7-7 16:05']\n",
    "\n",
    "syncmeshCollectBytes = timedfcollect[\"jsonPayload.bytes_sent\"].sum()\n",
    "syncmeshCollectRTT = timedfcollect[\"jsonPayload.rtt_msec\"].sum()\n",
    "\n",
    "# timedfbaseline.info()\n",
    "\n",
    "fig, ax = plt.subplots()\n",
    "cases = ['Baseline', 'Syncmesh\\nAggregate', 'Syncmesh\\nCollect']\n",
    "values = [baselineAggregateBytes, syncmeshAggregateBytes, syncmeshCollectBytes]\n",
    "print(values)\n",
    "ax.bar(cases,values)\n",
    "ax.set_title('Comparison: Bytes')\n",
    "ax.set_yticklabels([to_human_readable(v) if v >= 0 else ' ' for v in  \n",
    "                    ax.get_yticks(minor=False)])\n",
    "# ax.set_ylabel(\"Bytes\")\n",
    "# ax.set_xlabel(\"Time\")\n",
    "fig.savefig(\"out/comparison.png\")\n",
    "plt.show()"
   ],
   "outputs": [
    {
     "output_type": "stream",
     "name": "stdout",
     "text": [
      "[0, 0, 0]\n"
     ]
    },
    {
     "output_type": "display_data",
     "data": {
      "text/plain": [
       "<Figure size 432x288 with 1 Axes>"
      ],
      "image/png": "[encoded data removed]"
     },
     "metadata": {
      "needs_background": "light"
     }
    }
   ],
   "metadata": {}
  },
  {
   "cell_type": "code",
   "execution_count": 46,
   "source": [
    "fig, ax = plt.subplots()\n",
    "cases = ['Baseline', 'Syncmesh\\nAggregate', 'Syncmesh\\nCollect']\n",
    "values = [baselineAggregateRTT, syncmeshAggregateRTT, syncmeshCollectRTT]\n",
    "ax.bar(cases,values)\n",
    "ax.set_title('Comparison: RTT')\n",
    "ax.set_ylabel(\"Time in MSec\")\n",
    "# ax.set_xlabel(\"Time\")\n",
    "fig.savefig(\"out/comparison_rtt.png\")\n",
    "plt.show()"
   ],
   "outputs": [
    {
     "output_type": "display_data",
     "data": {
      "text/plain": [
       "<Figure size 432x288 with 1 Axes>"
      ],
      "image/png": "[encoded data removed]"
     },
     "metadata": {
      "needs_background": "light"
     }
    }
   ],
   "metadata": {}
  }
 ],
 "metadata": {
  "interpreter": {
   "hash": "3352614b04f6a771ec3a392566a3763a34cdc96a177f762027aa589f02ec5f67"
  },
  "kernelspec": {
   "display_name": "Python 3.8.3 32-bit",
   "name": "python3"
  },
  "language_info": {
   "codemirror_mode": {
    "name": "ipython",
    "version": 3
   },
   "file_extension": ".py",
   "mimetype": "text/x-python",
   "name": "python",
   "nbconvert_exporter": "python",
   "pygments_lexer": "ipython3",
   "version": "3.8.3"
  },
  "orig_nbformat": 4
 },
 "nbformat": 4,
 "nbformat_minor": 2
}